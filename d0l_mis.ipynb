{
  "cells": [
    {
      "cell_type": "code",
      "source": [
        "!pip install qiskit==0.37.0  # or a specific version that supports Aer\n",
        "!pip install qiskit-aer==0.10.4\n",
        "!pip install qiskit-optimization==0.4.0\n",
        "\n",
        "from qiskit import Aer\n",
        "from qiskit.utils import QuantumInstance\n",
        "from qiskit_optimization import QuadraticProgram\n",
        "from qiskit_optimization.algorithms import MinimumEigenOptimizer\n",
        "from qiskit_optimization.converters import QuadraticProgramToQubo\n",
        "from qiskit.algorithms import QAOA\n",
        "import networkx as nx\n",
        "import matplotlib.pyplot as plt\n",
        "from itertools import combinations\n",
        "import networkx as nx\n",
        "import matplotlib.pyplot as plt"
      ],
      "metadata": {
        "colab": {
          "base_uri": "https://localhost:8080/"
        },
        "id": "EifyOxqHJBFl",
        "outputId": "730d4571-b6c1-4a97-b335-8dbe89955856"
      },
      "id": "EifyOxqHJBFl",
      "execution_count": 3,
      "outputs": [
        {
          "output_type": "stream",
          "name": "stdout",
          "text": [
            "Collecting qiskit==0.37.0\n",
            "  Downloading qiskit-0.37.0.tar.gz (13 kB)\n",
            "  Preparing metadata (setup.py) ... \u001b[?25l\u001b[?25hdone\n",
            "Collecting qiskit-terra==0.21.0 (from qiskit==0.37.0)\n",
            "  Downloading qiskit_terra-0.21.0-cp310-cp310-manylinux_2_17_x86_64.manylinux2014_x86_64.whl.metadata (8.5 kB)\n",
            "Collecting qiskit-aer==0.10.4 (from qiskit==0.37.0)\n",
            "  Downloading qiskit_aer-0.10.4-cp310-cp310-manylinux_2_17_x86_64.manylinux2014_x86_64.whl.metadata (6.4 kB)\n",
            "Collecting qiskit-ibmq-provider==0.19.2 (from qiskit==0.37.0)\n",
            "  Downloading qiskit_ibmq_provider-0.19.2-py3-none-any.whl.metadata (11 kB)\n",
            "Requirement already satisfied: numpy>=1.16.3 in /usr/local/lib/python3.10/dist-packages (from qiskit-aer==0.10.4->qiskit==0.37.0) (1.26.4)\n",
            "Requirement already satisfied: scipy>=1.0 in /usr/local/lib/python3.10/dist-packages (from qiskit-aer==0.10.4->qiskit==0.37.0) (1.13.1)\n",
            "Requirement already satisfied: requests>=2.19 in /usr/local/lib/python3.10/dist-packages (from qiskit-ibmq-provider==0.19.2->qiskit==0.37.0) (2.32.3)\n",
            "Collecting requests-ntlm>=1.1.0 (from qiskit-ibmq-provider==0.19.2->qiskit==0.37.0)\n",
            "  Downloading requests_ntlm-1.3.0-py3-none-any.whl.metadata (2.4 kB)\n",
            "Requirement already satisfied: urllib3>=1.21.1 in /usr/local/lib/python3.10/dist-packages (from qiskit-ibmq-provider==0.19.2->qiskit==0.37.0) (2.0.7)\n",
            "Requirement already satisfied: python-dateutil>=2.8.0 in /usr/local/lib/python3.10/dist-packages (from qiskit-ibmq-provider==0.19.2->qiskit==0.37.0) (2.8.2)\n",
            "Requirement already satisfied: websocket-client>=1.0.1 in /usr/local/lib/python3.10/dist-packages (from qiskit-ibmq-provider==0.19.2->qiskit==0.37.0) (1.8.0)\n",
            "Collecting websockets>=10.0 (from qiskit-ibmq-provider==0.19.2->qiskit==0.37.0)\n",
            "  Downloading websockets-12.0-cp310-cp310-manylinux_2_5_x86_64.manylinux1_x86_64.manylinux_2_17_x86_64.manylinux2014_x86_64.whl.metadata (6.6 kB)\n",
            "Collecting retworkx>=0.11.0 (from qiskit-terra==0.21.0->qiskit==0.37.0)\n",
            "  Downloading retworkx-0.15.1-py3-none-any.whl.metadata (10 kB)\n",
            "Collecting ply>=3.10 (from qiskit-terra==0.21.0->qiskit==0.37.0)\n",
            "  Downloading ply-3.11-py2.py3-none-any.whl.metadata (844 bytes)\n",
            "Requirement already satisfied: psutil>=5 in /usr/local/lib/python3.10/dist-packages (from qiskit-terra==0.21.0->qiskit==0.37.0) (5.9.5)\n",
            "Requirement already satisfied: sympy>=1.3 in /usr/local/lib/python3.10/dist-packages (from qiskit-terra==0.21.0->qiskit==0.37.0) (1.13.1)\n",
            "Collecting dill>=0.3 (from qiskit-terra==0.21.0->qiskit==0.37.0)\n",
            "  Downloading dill-0.3.8-py3-none-any.whl.metadata (10 kB)\n",
            "Collecting stevedore>=3.0.0 (from qiskit-terra==0.21.0->qiskit==0.37.0)\n",
            "  Downloading stevedore-5.2.0-py3-none-any.whl.metadata (2.3 kB)\n",
            "Collecting tweedledum<2.0,>=1.1 (from qiskit-terra==0.21.0->qiskit==0.37.0)\n",
            "  Downloading tweedledum-1.1.1-cp310-cp310-manylinux_2_12_x86_64.manylinux2010_x86_64.whl.metadata (10.0 kB)\n",
            "Collecting symengine>=0.9 (from qiskit-terra==0.21.0->qiskit==0.37.0)\n",
            "  Downloading symengine-0.11.0-cp310-cp310-manylinux_2_12_x86_64.manylinux2010_x86_64.whl.metadata (1.2 kB)\n",
            "Requirement already satisfied: six>=1.5 in /usr/local/lib/python3.10/dist-packages (from python-dateutil>=2.8.0->qiskit-ibmq-provider==0.19.2->qiskit==0.37.0) (1.16.0)\n",
            "Requirement already satisfied: charset-normalizer<4,>=2 in /usr/local/lib/python3.10/dist-packages (from requests>=2.19->qiskit-ibmq-provider==0.19.2->qiskit==0.37.0) (3.3.2)\n",
            "Requirement already satisfied: idna<4,>=2.5 in /usr/local/lib/python3.10/dist-packages (from requests>=2.19->qiskit-ibmq-provider==0.19.2->qiskit==0.37.0) (3.7)\n",
            "Requirement already satisfied: certifi>=2017.4.17 in /usr/local/lib/python3.10/dist-packages (from requests>=2.19->qiskit-ibmq-provider==0.19.2->qiskit==0.37.0) (2024.7.4)\n",
            "Requirement already satisfied: cryptography>=1.3 in /usr/local/lib/python3.10/dist-packages (from requests-ntlm>=1.1.0->qiskit-ibmq-provider==0.19.2->qiskit==0.37.0) (42.0.8)\n",
            "Collecting pyspnego>=0.4.0 (from requests-ntlm>=1.1.0->qiskit-ibmq-provider==0.19.2->qiskit==0.37.0)\n",
            "  Downloading pyspnego-0.11.1-py3-none-any.whl.metadata (5.4 kB)\n",
            "Collecting rustworkx==0.15.1 (from retworkx>=0.11.0->qiskit-terra==0.21.0->qiskit==0.37.0)\n",
            "  Downloading rustworkx-0.15.1-cp38-abi3-manylinux_2_17_x86_64.manylinux2014_x86_64.whl.metadata (9.9 kB)\n",
            "Collecting pbr!=2.1.0,>=2.0.0 (from stevedore>=3.0.0->qiskit-terra==0.21.0->qiskit==0.37.0)\n",
            "  Downloading pbr-6.0.0-py2.py3-none-any.whl.metadata (1.3 kB)\n",
            "Requirement already satisfied: mpmath<1.4,>=1.1.0 in /usr/local/lib/python3.10/dist-packages (from sympy>=1.3->qiskit-terra==0.21.0->qiskit==0.37.0) (1.3.0)\n",
            "Requirement already satisfied: cffi>=1.12 in /usr/local/lib/python3.10/dist-packages (from cryptography>=1.3->requests-ntlm>=1.1.0->qiskit-ibmq-provider==0.19.2->qiskit==0.37.0) (1.17.0)\n",
            "Requirement already satisfied: pycparser in /usr/local/lib/python3.10/dist-packages (from cffi>=1.12->cryptography>=1.3->requests-ntlm>=1.1.0->qiskit-ibmq-provider==0.19.2->qiskit==0.37.0) (2.22)\n",
            "Downloading qiskit_aer-0.10.4-cp310-cp310-manylinux_2_17_x86_64.manylinux2014_x86_64.whl (19.1 MB)\n",
            "\u001b[2K   \u001b[90m━━━━━━━━━━━━━━━━━━━━━━━━━━━━━━━━━━━━━━━━\u001b[0m \u001b[32m19.1/19.1 MB\u001b[0m \u001b[31m72.9 MB/s\u001b[0m eta \u001b[36m0:00:00\u001b[0m\n",
            "\u001b[?25hDownloading qiskit_ibmq_provider-0.19.2-py3-none-any.whl (240 kB)\n",
            "\u001b[2K   \u001b[90m━━━━━━━━━━━━━━━━━━━━━━━━━━━━━━━━━━━━━━━━\u001b[0m \u001b[32m240.4/240.4 kB\u001b[0m \u001b[31m14.4 MB/s\u001b[0m eta \u001b[36m0:00:00\u001b[0m\n",
            "\u001b[?25hDownloading qiskit_terra-0.21.0-cp310-cp310-manylinux_2_17_x86_64.manylinux2014_x86_64.whl (6.7 MB)\n",
            "\u001b[2K   \u001b[90m━━━━━━━━━━━━━━━━━━━━━━━━━━━━━━━━━━━━━━━━\u001b[0m \u001b[32m6.7/6.7 MB\u001b[0m \u001b[31m58.4 MB/s\u001b[0m eta \u001b[36m0:00:00\u001b[0m\n",
            "\u001b[?25hDownloading dill-0.3.8-py3-none-any.whl (116 kB)\n",
            "\u001b[2K   \u001b[90m━━━━━━━━━━━━━━━━━━━━━━━━━━━━━━━━━━━━━━━━\u001b[0m \u001b[32m116.3/116.3 kB\u001b[0m \u001b[31m7.5 MB/s\u001b[0m eta \u001b[36m0:00:00\u001b[0m\n",
            "\u001b[?25hDownloading ply-3.11-py2.py3-none-any.whl (49 kB)\n",
            "\u001b[2K   \u001b[90m━━━━━━━━━━━━━━━━━━━━━━━━━━━━━━━━━━━━━━━━\u001b[0m \u001b[32m49.6/49.6 kB\u001b[0m \u001b[31m2.7 MB/s\u001b[0m eta \u001b[36m0:00:00\u001b[0m\n",
            "\u001b[?25hDownloading requests_ntlm-1.3.0-py3-none-any.whl (6.6 kB)\n",
            "Downloading retworkx-0.15.1-py3-none-any.whl (10 kB)\n",
            "Downloading rustworkx-0.15.1-cp38-abi3-manylinux_2_17_x86_64.manylinux2014_x86_64.whl (2.0 MB)\n",
            "\u001b[2K   \u001b[90m━━━━━━━━━━━━━━━━━━━━━━━━━━━━━━━━━━━━━━━━\u001b[0m \u001b[32m2.0/2.0 MB\u001b[0m \u001b[31m53.5 MB/s\u001b[0m eta \u001b[36m0:00:00\u001b[0m\n",
            "\u001b[?25hDownloading stevedore-5.2.0-py3-none-any.whl (49 kB)\n",
            "\u001b[2K   \u001b[90m━━━━━━━━━━━━━━━━━━━━━━━━━━━━━━━━━━━━━━━━\u001b[0m \u001b[32m49.7/49.7 kB\u001b[0m \u001b[31m2.8 MB/s\u001b[0m eta \u001b[36m0:00:00\u001b[0m\n",
            "\u001b[?25hDownloading symengine-0.11.0-cp310-cp310-manylinux_2_12_x86_64.manylinux2010_x86_64.whl (39.4 MB)\n",
            "\u001b[2K   \u001b[90m━━━━━━━━━━━━━━━━━━━━━━━━━━━━━━━━━━━━━━━━\u001b[0m \u001b[32m39.4/39.4 MB\u001b[0m \u001b[31m17.9 MB/s\u001b[0m eta \u001b[36m0:00:00\u001b[0m\n",
            "\u001b[?25hDownloading tweedledum-1.1.1-cp310-cp310-manylinux_2_12_x86_64.manylinux2010_x86_64.whl (929 kB)\n",
            "\u001b[2K   \u001b[90m━━━━━━━━━━━━━━━━━━━━━━━━━━━━━━━━━━━━━━━━\u001b[0m \u001b[32m929.7/929.7 kB\u001b[0m \u001b[31m30.7 MB/s\u001b[0m eta \u001b[36m0:00:00\u001b[0m\n",
            "\u001b[?25hDownloading websockets-12.0-cp310-cp310-manylinux_2_5_x86_64.manylinux1_x86_64.manylinux_2_17_x86_64.manylinux2014_x86_64.whl (130 kB)\n",
            "\u001b[2K   \u001b[90m━━━━━━━━━━━━━━━━━━━━━━━━━━━━━━━━━━━━━━━━\u001b[0m \u001b[32m130.2/130.2 kB\u001b[0m \u001b[31m8.7 MB/s\u001b[0m eta \u001b[36m0:00:00\u001b[0m\n",
            "\u001b[?25hDownloading pbr-6.0.0-py2.py3-none-any.whl (107 kB)\n",
            "\u001b[2K   \u001b[90m━━━━━━━━━━━━━━━━━━━━━━━━━━━━━━━━━━━━━━━━\u001b[0m \u001b[32m107.5/107.5 kB\u001b[0m \u001b[31m7.0 MB/s\u001b[0m eta \u001b[36m0:00:00\u001b[0m\n",
            "\u001b[?25hDownloading pyspnego-0.11.1-py3-none-any.whl (130 kB)\n",
            "\u001b[2K   \u001b[90m━━━━━━━━━━━━━━━━━━━━━━━━━━━━━━━━━━━━━━━━\u001b[0m \u001b[32m130.5/130.5 kB\u001b[0m \u001b[31m9.0 MB/s\u001b[0m eta \u001b[36m0:00:00\u001b[0m\n",
            "\u001b[?25hBuilding wheels for collected packages: qiskit\n",
            "  Building wheel for qiskit (setup.py) ... \u001b[?25l\u001b[?25hdone\n",
            "  Created wheel for qiskit: filename=qiskit-0.37.0-py3-none-any.whl size=12003 sha256=8e6ce3b9392b27a1caa892bac49c818b57d46f84884441cbb219e3d002a16d1b\n",
            "  Stored in directory: /root/.cache/pip/wheels/74/2b/8d/342dc2d006e39d4004ba177d2c8ad249e250355d31fe6f88fd\n",
            "Successfully built qiskit\n",
            "Installing collected packages: ply, websockets, tweedledum, symengine, rustworkx, pbr, dill, stevedore, retworkx, qiskit-terra, pyspnego, requests-ntlm, qiskit-aer, qiskit-ibmq-provider, qiskit\n",
            "Successfully installed dill-0.3.8 pbr-6.0.0 ply-3.11 pyspnego-0.11.1 qiskit-0.37.0 qiskit-aer-0.10.4 qiskit-ibmq-provider-0.19.2 qiskit-terra-0.21.0 requests-ntlm-1.3.0 retworkx-0.15.1 rustworkx-0.15.1 stevedore-5.2.0 symengine-0.11.0 tweedledum-1.1.1 websockets-12.0\n",
            "Requirement already satisfied: qiskit-aer==0.10.4 in /usr/local/lib/python3.10/dist-packages (0.10.4)\n",
            "Requirement already satisfied: numpy>=1.16.3 in /usr/local/lib/python3.10/dist-packages (from qiskit-aer==0.10.4) (1.26.4)\n",
            "Requirement already satisfied: qiskit-terra>=0.19.1 in /usr/local/lib/python3.10/dist-packages (from qiskit-aer==0.10.4) (0.21.0)\n",
            "Requirement already satisfied: scipy>=1.0 in /usr/local/lib/python3.10/dist-packages (from qiskit-aer==0.10.4) (1.13.1)\n",
            "Requirement already satisfied: retworkx>=0.11.0 in /usr/local/lib/python3.10/dist-packages (from qiskit-terra>=0.19.1->qiskit-aer==0.10.4) (0.15.1)\n",
            "Requirement already satisfied: ply>=3.10 in /usr/local/lib/python3.10/dist-packages (from qiskit-terra>=0.19.1->qiskit-aer==0.10.4) (3.11)\n",
            "Requirement already satisfied: psutil>=5 in /usr/local/lib/python3.10/dist-packages (from qiskit-terra>=0.19.1->qiskit-aer==0.10.4) (5.9.5)\n",
            "Requirement already satisfied: sympy>=1.3 in /usr/local/lib/python3.10/dist-packages (from qiskit-terra>=0.19.1->qiskit-aer==0.10.4) (1.13.1)\n",
            "Requirement already satisfied: dill>=0.3 in /usr/local/lib/python3.10/dist-packages (from qiskit-terra>=0.19.1->qiskit-aer==0.10.4) (0.3.8)\n",
            "Requirement already satisfied: python-dateutil>=2.8.0 in /usr/local/lib/python3.10/dist-packages (from qiskit-terra>=0.19.1->qiskit-aer==0.10.4) (2.8.2)\n",
            "Requirement already satisfied: stevedore>=3.0.0 in /usr/local/lib/python3.10/dist-packages (from qiskit-terra>=0.19.1->qiskit-aer==0.10.4) (5.2.0)\n",
            "Requirement already satisfied: tweedledum<2.0,>=1.1 in /usr/local/lib/python3.10/dist-packages (from qiskit-terra>=0.19.1->qiskit-aer==0.10.4) (1.1.1)\n",
            "Requirement already satisfied: symengine>=0.9 in /usr/local/lib/python3.10/dist-packages (from qiskit-terra>=0.19.1->qiskit-aer==0.10.4) (0.11.0)\n",
            "Requirement already satisfied: six>=1.5 in /usr/local/lib/python3.10/dist-packages (from python-dateutil>=2.8.0->qiskit-terra>=0.19.1->qiskit-aer==0.10.4) (1.16.0)\n",
            "Requirement already satisfied: rustworkx==0.15.1 in /usr/local/lib/python3.10/dist-packages (from retworkx>=0.11.0->qiskit-terra>=0.19.1->qiskit-aer==0.10.4) (0.15.1)\n",
            "Requirement already satisfied: pbr!=2.1.0,>=2.0.0 in /usr/local/lib/python3.10/dist-packages (from stevedore>=3.0.0->qiskit-terra>=0.19.1->qiskit-aer==0.10.4) (6.0.0)\n",
            "Requirement already satisfied: mpmath<1.4,>=1.1.0 in /usr/local/lib/python3.10/dist-packages (from sympy>=1.3->qiskit-terra>=0.19.1->qiskit-aer==0.10.4) (1.3.0)\n",
            "Collecting qiskit-optimization==0.4.0\n",
            "  Downloading qiskit_optimization-0.4.0-py3-none-any.whl.metadata (8.3 kB)\n",
            "Requirement already satisfied: qiskit-terra>=0.20.0 in /usr/local/lib/python3.10/dist-packages (from qiskit-optimization==0.4.0) (0.21.0)\n",
            "Requirement already satisfied: scipy>=1.4 in /usr/local/lib/python3.10/dist-packages (from qiskit-optimization==0.4.0) (1.13.1)\n",
            "Requirement already satisfied: numpy>=1.17 in /usr/local/lib/python3.10/dist-packages (from qiskit-optimization==0.4.0) (1.26.4)\n",
            "Collecting docplex>=2.21.207 (from qiskit-optimization==0.4.0)\n",
            "  Downloading docplex-2.28.240.tar.gz (643 kB)\n",
            "\u001b[2K     \u001b[90m━━━━━━━━━━━━━━━━━━━━━━━━━━━━━━━━━━━━━━━━\u001b[0m \u001b[32m643.4/643.4 kB\u001b[0m \u001b[31m8.3 MB/s\u001b[0m eta \u001b[36m0:00:00\u001b[0m\n",
            "\u001b[?25h  Installing build dependencies ... \u001b[?25l\u001b[?25hdone\n",
            "  Getting requirements to build wheel ... \u001b[?25l\u001b[?25hdone\n",
            "  Installing backend dependencies ... \u001b[?25l\u001b[?25hdone\n",
            "  Preparing metadata (pyproject.toml) ... \u001b[?25l\u001b[?25hdone\n",
            "Requirement already satisfied: setuptools>=40.1.0 in /usr/local/lib/python3.10/dist-packages (from qiskit-optimization==0.4.0) (71.0.4)\n",
            "Requirement already satisfied: networkx>=2.2 in /usr/local/lib/python3.10/dist-packages (from qiskit-optimization==0.4.0) (3.3)\n",
            "Requirement already satisfied: six in /usr/local/lib/python3.10/dist-packages (from docplex>=2.21.207->qiskit-optimization==0.4.0) (1.16.0)\n",
            "Requirement already satisfied: retworkx>=0.11.0 in /usr/local/lib/python3.10/dist-packages (from qiskit-terra>=0.20.0->qiskit-optimization==0.4.0) (0.15.1)\n",
            "Requirement already satisfied: ply>=3.10 in /usr/local/lib/python3.10/dist-packages (from qiskit-terra>=0.20.0->qiskit-optimization==0.4.0) (3.11)\n",
            "Requirement already satisfied: psutil>=5 in /usr/local/lib/python3.10/dist-packages (from qiskit-terra>=0.20.0->qiskit-optimization==0.4.0) (5.9.5)\n",
            "Requirement already satisfied: sympy>=1.3 in /usr/local/lib/python3.10/dist-packages (from qiskit-terra>=0.20.0->qiskit-optimization==0.4.0) (1.13.1)\n",
            "Requirement already satisfied: dill>=0.3 in /usr/local/lib/python3.10/dist-packages (from qiskit-terra>=0.20.0->qiskit-optimization==0.4.0) (0.3.8)\n",
            "Requirement already satisfied: python-dateutil>=2.8.0 in /usr/local/lib/python3.10/dist-packages (from qiskit-terra>=0.20.0->qiskit-optimization==0.4.0) (2.8.2)\n",
            "Requirement already satisfied: stevedore>=3.0.0 in /usr/local/lib/python3.10/dist-packages (from qiskit-terra>=0.20.0->qiskit-optimization==0.4.0) (5.2.0)\n",
            "Requirement already satisfied: tweedledum<2.0,>=1.1 in /usr/local/lib/python3.10/dist-packages (from qiskit-terra>=0.20.0->qiskit-optimization==0.4.0) (1.1.1)\n",
            "Requirement already satisfied: symengine>=0.9 in /usr/local/lib/python3.10/dist-packages (from qiskit-terra>=0.20.0->qiskit-optimization==0.4.0) (0.11.0)\n",
            "Requirement already satisfied: rustworkx==0.15.1 in /usr/local/lib/python3.10/dist-packages (from retworkx>=0.11.0->qiskit-terra>=0.20.0->qiskit-optimization==0.4.0) (0.15.1)\n",
            "Requirement already satisfied: pbr!=2.1.0,>=2.0.0 in /usr/local/lib/python3.10/dist-packages (from stevedore>=3.0.0->qiskit-terra>=0.20.0->qiskit-optimization==0.4.0) (6.0.0)\n",
            "Requirement already satisfied: mpmath<1.4,>=1.1.0 in /usr/local/lib/python3.10/dist-packages (from sympy>=1.3->qiskit-terra>=0.20.0->qiskit-optimization==0.4.0) (1.3.0)\n",
            "Downloading qiskit_optimization-0.4.0-py3-none-any.whl (159 kB)\n",
            "\u001b[2K   \u001b[90m━━━━━━━━━━━━━━━━━━━━━━━━━━━━━━━━━━━━━━━━\u001b[0m \u001b[32m159.2/159.2 kB\u001b[0m \u001b[31m9.4 MB/s\u001b[0m eta \u001b[36m0:00:00\u001b[0m\n",
            "\u001b[?25hBuilding wheels for collected packages: docplex\n",
            "  Building wheel for docplex (pyproject.toml) ... \u001b[?25l\u001b[?25hdone\n",
            "  Created wheel for docplex: filename=docplex-2.28.240-py3-none-any.whl size=682834 sha256=47b7ddd5d888868e9fb8f732721b47ce51fcd06bc67efd0087382b9a71edaa81\n",
            "  Stored in directory: /root/.cache/pip/wheels/1b/ec/59/cc07dedc67b032a492201f6f26c1f3c9e667ef208c9213ba6d\n",
            "Successfully built docplex\n",
            "Installing collected packages: docplex, qiskit-optimization\n",
            "Successfully installed docplex-2.28.240 qiskit-optimization-0.4.0\n"
          ]
        }
      ]
    },
    {
      "cell_type": "markdown",
      "source": [
        "The following cell implements a solver for the Maximum Independent Set (MIS) problem based on the paper \"A Quantum Approximate Optimization Algorithm\" by Farhi et al. The paper presents approximate algorithms for solving optimization problems involving quadratic functions. In this implementation, we design a QUBO (Quadratic Unconstrained Binary Optimization) matrix. In this matrix, selecting individual vertices does not incur a positive cost, but edges in the graph are encoded with positive costs. This encoding discourages the selection of adjacent vertices in the graph, ensuring that the algorithm favors independent sets where no two selected vertices are directly connected.\n",
        "\n",
        "For the paper \"A Quantum Approximate Optimization Algorithm\", please refer to the following: https://arxiv.org/abs/1411.4028\n"
      ],
      "metadata": {
        "id": "B8WC8TWID7H2"
      },
      "id": "B8WC8TWID7H2"
    },
    {
      "cell_type": "code",
      "source": [
        "# Define the QUBO matrix for the graph\n",
        "\n",
        "# for example consider a c4(four cycle with one of the chords connected, we should be able to pick the two non-connected cords)\n",
        "\n",
        "\n",
        "# QUBO matrix for the c4 + (0,2) chord added\n",
        "qubo_matrix = {\n",
        "    (0, 0): -1,\n",
        "    (1, 1): -1,\n",
        "    (2, 2): -1,\n",
        "    (3, 3): -1,\n",
        "    (0, 1): 2,\n",
        "    (1, 2): 2,\n",
        "    (2, 3): 2,\n",
        "    (3, 0): 2,\n",
        "    (0, 2): 2,\n",
        "}\n",
        "\n",
        "# Initialize the Quadratic Program\n",
        "qp = QuadraticProgram()\n",
        "\n",
        "# Add variables to the quadratic program\n",
        "num_variables = max(max(i, j) for i, j in qubo_matrix.keys()) + 1\n",
        "for i in range(num_variables):\n",
        "    qp.binary_var(name=f\"x{i}\")\n",
        "\n",
        "# Set the objective function\n",
        "qp.minimize(quadratic=qubo_matrix)\n",
        "\n",
        "# Convert the QuadraticProgram to QUBO\n",
        "conv = QuadraticProgramToQubo()\n",
        "qubo = conv.convert(qp)\n",
        "\n",
        "# Quantum Instance and QAOA\n",
        "backend = Aer.get_backend('qasm_simulator')\n",
        "quantum_instance = QuantumInstance(backend, shots=4096)\n",
        "qaoa = QAOA(quantum_instance=quantum_instance, reps=3)\n",
        "qaoa_optimizer = MinimumEigenOptimizer(qaoa)\n",
        "\n",
        "# MIS solve\n",
        "result = qaoa_optimizer.solve(qubo)\n",
        "print(\"Optimal value:\", result.fval)\n",
        "print(\"Solution:\", result.x)"
      ],
      "metadata": {
        "colab": {
          "base_uri": "https://localhost:8080/"
        },
        "id": "MZ8pffXtDpkl",
        "outputId": "f4d50b99-d0f7-43a4-c78e-3f6cad810d0b"
      },
      "id": "MZ8pffXtDpkl",
      "execution_count": 4,
      "outputs": [
        {
          "output_type": "stream",
          "name": "stdout",
          "text": [
            "Optimal value: -2.0\n",
            "Solution: [0. 1. 0. 1.]\n"
          ]
        }
      ]
    },
    {
      "cell_type": "markdown",
      "source": [
        "Here we will implement how characteristic graph is built for D0LI problem.\n",
        "\n",
        "\n",
        "Recall the definition we proposed for the characteristic graph of a D0LI problem which was the following:\\\\\n",
        "- For $0 \\leq i \\leq m-1$ and $1 \\leq j \\leq |w_i|$, we construct complete graphs $G_{i,j}$ such that:\n",
        "  $$\n",
        "  V(G_{i,j}) = \\{(i,j,\\text{start},\\text{end}) : j \\leq \\text{start} \\leq \\text{end} \\leq |w_{i+1}|-|w_i|+j\\}.\n",
        "  $$\n",
        "\n",
        "- We then define $V(G_{\\rho}) = \\bigcup\\limits_{0\\leq i<m,1\\leq j\\leq |w_{i}|} V(G_{ij}).$\n",
        "\n",
        "Hereafter, we will define $E(G_{\\rho})$. Let $v,w\\in V(G_{\\rho})$; $v\\in V(G_{i_1,j_1})$ and $w\\in V(G_{i_2,j_2})$, therefore, $v=(i_1,j_1,s_1,e_1)$ and $w=(i_2,j_2,s_2,e_2)$, then $(v,w) \\in E(G_{\\rho})$ if at least one of the following conditions hold:\n",
        "\n",
        "1. $w_{i_1}[j_1]=w_{i_2}[j_2]$ and $w_{i_1+1}[s_1:e_1] \\neq w_{i_2+1}[s_2:e_2]$.\n",
        "2. $i_1=i_2$, $j_1+1 = j_2$ and $e_1\\neq s_2-1$.\n"
      ],
      "metadata": {
        "id": "HpAv2H-tHXQz"
      },
      "id": "HpAv2H-tHXQz"
    },
    {
      "cell_type": "code",
      "source": [
        "def char_graph_dl(seq):\n",
        "    vertex_set = dict()\n",
        "\n",
        "    m = len(seq) - 1\n",
        "\n",
        "    for i in range(m):\n",
        "        lag = len(seq[i + 1]) - len(seq[i])\n",
        "        for j in range(len(seq[i])):\n",
        "            if j == 0 and j == len(seq[i]) - 1:\n",
        "                start = 0\n",
        "                end = len(seq[i + 1]) - 1\n",
        "                vertex_set[(i, j, start, end)] = {}\n",
        "            elif j == 0:\n",
        "                start = 0\n",
        "                for end in range(0, lag + 1):\n",
        "                    vertex_set[(i, j, start, end)] = {}\n",
        "            elif j == len(seq[i]) - 1:\n",
        "                end = len(seq[i + 1]) - 1\n",
        "                for start in range(j, end + 1):\n",
        "                    vertex_set[(i, j, start, end)] = {}\n",
        "            else:\n",
        "                for start in range(j, lag + j + 1):\n",
        "                    for end in range(start, lag + j + 1):\n",
        "                        vertex_set[(i, j, start, end)] = {}\n",
        "\n",
        "\n",
        "    for node_1 in list(vertex_set.keys()):\n",
        "        i_1 , j_1 , start_1 , end_1 = node_1\n",
        "\n",
        "        for node_2 in list(vertex_set.keys()):\n",
        "\n",
        "            i_2 , j_2 , start_2 , end_2 = node_2\n",
        "\n",
        "            if node_1 in vertex_set[node_2].keys() or node_1 == node_2:\n",
        "                continue\n",
        "            elif seq[i_1][j_1] == seq[i_2][j_2]:\n",
        "                vertex_set[node_1][node_2] = 1\n",
        "                vertex_set[node_2][node_1] = 1\n",
        "            elif i_1 == i_2 and j_1 == j_2+1 or j_2 == j_1+1:\n",
        "                vertex_set[node_1][node_2] = 1\n",
        "                vertex_set[node_2][node_1] = 1\n",
        "    return vertex_set\n",
        "\n",
        "# simple case to see how the connections are made\n",
        "seq = ['AA', 'ABA']\n",
        "vertex_set = char_graph_dl(seq)\n",
        "\n",
        "# checking connections\n",
        "for a in vertex_set:\n",
        "    for b in vertex_set[a]:\n",
        "        print(a,b,\"were connected\")\n",
        "\n"
      ],
      "metadata": {
        "colab": {
          "base_uri": "https://localhost:8080/"
        },
        "id": "oPZsaaYlngmz",
        "outputId": "20cee8f1-8811-4d97-8c1d-a31e5abd29bd"
      },
      "id": "oPZsaaYlngmz",
      "execution_count": 5,
      "outputs": [
        {
          "output_type": "stream",
          "name": "stdout",
          "text": [
            "(0, 0, 0, 0) (0, 0, 0, 1) were connected\n",
            "(0, 0, 0, 0) (0, 1, 1, 2) were connected\n",
            "(0, 0, 0, 0) (0, 1, 2, 2) were connected\n",
            "(0, 0, 0, 1) (0, 0, 0, 0) were connected\n",
            "(0, 0, 0, 1) (0, 1, 1, 2) were connected\n",
            "(0, 0, 0, 1) (0, 1, 2, 2) were connected\n",
            "(0, 1, 1, 2) (0, 0, 0, 0) were connected\n",
            "(0, 1, 1, 2) (0, 0, 0, 1) were connected\n",
            "(0, 1, 1, 2) (0, 1, 2, 2) were connected\n",
            "(0, 1, 2, 2) (0, 0, 0, 0) were connected\n",
            "(0, 1, 2, 2) (0, 0, 0, 1) were connected\n",
            "(0, 1, 2, 2) (0, 1, 1, 2) were connected\n"
          ]
        }
      ]
    },
    {
      "cell_type": "markdown",
      "source": [
        "In the following cell we build some intuition on how the characteristic graph is looks like."
      ],
      "metadata": {
        "id": "FYKZMKMvH91V"
      },
      "id": "FYKZMKMvH91V"
    },
    {
      "cell_type": "code",
      "source": [
        "def plot_vertex_graph(vertex_set):\n",
        "    \"\"\"\n",
        "    Takes a vertex set dictionary where keys are node labels and values are lists of connected nodes.\n",
        "    Constructs and plots the corresponding graph.\n",
        "\n",
        "    Parameters:\n",
        "    vertex_set (dict): A dictionary where each key is a node and its value is a list of nodes it connects to.\n",
        "    \"\"\"\n",
        "    G = nx.Graph()\n",
        "\n",
        "    # Add nodes and edges from vertex_set\n",
        "    for node_1, connections in vertex_set.items():\n",
        "        G.add_node(node_1)\n",
        "        for node_2 in connections:\n",
        "            G.add_edge(node_1, node_2)\n",
        "\n",
        "    # Draw the graph\n",
        "    pos = nx.spring_layout(G)  # positions for all nodes\n",
        "    nx.draw(G, pos, with_labels=True, node_color='lightblue', edge_color='gray', node_size=500, font_size=10)\n",
        "    plt.show()\n",
        "\n",
        "seq = seq = ['A', 'ABA']\n",
        "vertex_set = char_graph_dl(seq)\n",
        "plot_vertex_graph(vertex_set)"
      ],
      "metadata": {
        "colab": {
          "base_uri": "https://localhost:8080/",
          "height": 516
        },
        "id": "nFGq78PsHxFn",
        "outputId": "459f85e4-ac10-4628-d296-82eac4a0ba4d"
      },
      "id": "nFGq78PsHxFn",
      "execution_count": 6,
      "outputs": [
        {
          "output_type": "display_data",
          "data": {
            "text/plain": [
              "<Figure size 640x480 with 1 Axes>"
            ],
            "image/png": "[encoded data removed]"
          },
          "metadata": {}
        }
      ]
    },
    {
      "cell_type": "markdown",
      "source": [
        "In the code cell after, we are testing our main result which is Theorem 5.1 and also the algorithm afterwards.\n",
        "\n",
        "The Theorem wasa as following:\n",
        "\n",
        "Assume $V = \\{v_1, \\ldots, v_n\\}$ is a language, and $\\rho = (w_0, \\ldots, w_n)$ is a sequence over $V$, then there exists an L-system $G$ that produces $\\rho$ if and only if $G_{\\rho}$ has a maximum independent set of size $k$, where:\n",
        "\t\\[\n",
        "\tk = \\sum_{i=0}^{m-1}\\lvert w_i \\rvert.\n",
        "\t\\]\n",
        "\n",
        "\n",
        "Furhtermore, our algorithm was the following: **Algorithm: Solves D0LI or D0L-Inference**\n",
        "\n",
        "**Procedure**: `QunatInferD0L(w_0, w_1, \\dots, w_m)`\n",
        "\n",
        "1. $V \\gets \\{w_{i}[j] \\mid 0 \\leq i < m , 1 \\leq j \\leq |w_{i}|\\}$\n",
        "2. $\\omega \\gets w_0$\n",
        "3. $P \\gets \\{\\}$\n",
        "4. $\\rho \\gets (w_0, w_1, \\dots, w_m)$\n",
        "5. Construct $G_{\\rho}$\n",
        "6. $I \\gets Quant_{MSI}(G_{\\rho})$\n",
        "7. $k \\gets \\sum_{i=0}^{n-1}\\lvert w_i \\rvert$\n",
        "8. **if** $|I|<k$ **then**\n",
        "   - return `False`\n",
        "9. **for** $(i,j,s,e) \\in I$ **do**\n",
        "   - Add $w_i[j]\\rightarrow w_{i+1}[s:e]$ to $P$\n",
        "10. **return** $(V, \\omega, P)$\n"
      ],
      "metadata": {
        "id": "BDLbN36OJ2mz"
      },
      "id": "BDLbN36OJ2mz"
    },
    {
      "cell_type": "code",
      "source": [
        "\n",
        "\n",
        "def is_independent_set(G, nodes):\n",
        "    \"\"\"Check if the set of nodes is an independent set.\"\"\"\n",
        "    for u, v in combinations(nodes, 2):\n",
        "        if G.has_edge(u, v):\n",
        "            return False\n",
        "    return True\n",
        "\n",
        "def has_independent_set_of_exact_size_K(G, K):\n",
        "    \"\"\"Check if the graph G has an independent set of exactly size K.\"\"\"\n",
        "    # Only check sets of size K\n",
        "    for subset in combinations(G.nodes, K):\n",
        "        if is_independent_set(G, subset):\n",
        "            return subset\n",
        "    return None\n",
        "\n",
        "def d0l_inference_solver(seq):\n",
        "    # Original data structure and process\n",
        "    K = sum(len(a) for a in seq[:-1])\n",
        "\n",
        "    vertex_set = dict()\n",
        "\n",
        "    m = len(seq) - 1\n",
        "\n",
        "    for i in range(m):\n",
        "        lag = len(seq[i + 1]) - len(seq[i])\n",
        "        for j in range(len(seq[i])):\n",
        "            if j == 0 and j == len(seq[i]) - 1:\n",
        "                start = 0\n",
        "                end = len(seq[i + 1]) - 1\n",
        "                vertex_set[(i, j, start, end)] = {}\n",
        "            elif j == 0:\n",
        "                start = 0\n",
        "                for end in range(0, lag + 1):\n",
        "                    vertex_set[(i, j, start, end)] = {}\n",
        "            elif j == len(seq[i]) - 1:\n",
        "                end = len(seq[i + 1]) - 1\n",
        "                for start in range(j, end + 1):\n",
        "                    vertex_set[(i, j, start, end)] = {}\n",
        "            else:\n",
        "                for start in range(j, lag + j + 1):\n",
        "                    for end in range(start, lag + j + 1):\n",
        "                        vertex_set[(i, j, start, end)] = {}\n",
        "\n",
        "    for node_1 in list(vertex_set.keys()):\n",
        "        i_1, j_1, start_1, end_1 = node_1\n",
        "        for node_2 in list(vertex_set.keys()):\n",
        "            i_2, j_2, start_2, end_2 = node_2\n",
        "            if node_1 in vertex_set[node_2].keys() or node_1 == node_2:\n",
        "                continue\n",
        "            elif seq[i_1][j_1] == seq[i_2][j_2] and seq[i_1 + 1][start_1: end_1 + 1] != seq[i_2 + 1][start_2: end_2 + 1]:\n",
        "                vertex_set[node_1][node_2] = 1\n",
        "                vertex_set[node_2][node_1] = 1\n",
        "            elif i_1 == i_2 and j_2 == j_1 + 1 and end_1 != start_2 - 1:\n",
        "                vertex_set[node_1][node_2] = 1\n",
        "                vertex_set[node_2][node_1] = 1\n",
        "\n",
        "    # plot_vertex_graph(vertex_set)\n",
        "\n",
        "    # Creating the NetworkX graph from vertex_set\n",
        "\n",
        "    G = nx.Graph()\n",
        "    for node_1, connections in vertex_set.items():\n",
        "        G.add_node(node_1)\n",
        "        for node_2 in connections:\n",
        "            G.add_edge(node_1, node_2)\n",
        "\n",
        "    # Check for an independent set of exact size K\n",
        "    independent_set = has_independent_set_of_exact_size_K(G, K)\n",
        "\n",
        "    if independent_set is None:\n",
        "        print(\"No solution to the D0L inference problem exists for the sequence:\", seq)\n",
        "        return False\n",
        "\n",
        "    productions = {(seq[i][j], seq[i+1][start:end+1]) for (i, j, start, end) in independent_set}\n",
        "    return productions\n",
        "\n",
        "seq = ['AB', 'ABAB', 'ABABABAB']\n",
        "print(d0l_inference_solver(seq))\n",
        "\n",
        "seq = ['X', 'X+YF+']\n",
        "print(d0l_inference_solver(seq))"
      ],
      "metadata": {
        "colab": {
          "base_uri": "https://localhost:8080/"
        },
        "id": "yxS0XCQFomtH",
        "outputId": "6424812b-4271-4e57-b6d1-a81231be49e4"
      },
      "id": "yxS0XCQFomtH",
      "execution_count": 7,
      "outputs": [
        {
          "output_type": "stream",
          "name": "stdout",
          "text": [
            "{('B', 'BAB'), ('A', 'A')}\n",
            "{('X', 'X+YF+')}\n"
          ]
        }
      ]
    },
    {
      "cell_type": "code",
      "source": [
        "# here we will test s sequence which should not have a solution\n",
        "\n",
        "\n",
        "seq = ['AA', 'ABAC', 'ABABABAB']\n",
        "print(d0l_inference_solver(seq))"
      ],
      "metadata": {
        "colab": {
          "base_uri": "https://localhost:8080/"
        },
        "id": "cVRA4w52LSdi",
        "outputId": "c27e5c26-6c96-4d9b-f52c-cc6737389f15"
      },
      "id": "cVRA4w52LSdi",
      "execution_count": 8,
      "outputs": [
        {
          "output_type": "stream",
          "name": "stdout",
          "text": [
            "No solution to the D0L inference problem exists for the sequence: ['AA', 'ABAC', 'ABABABAB']\n",
            "False\n"
          ]
        }
      ]
    },
    {
      "cell_type": "code",
      "source": [
        "\n",
        "seq = ['X', 'X+YF+', 'X+YF++-F-YF+']\n",
        "print(d0l_inference_solver(seq))"
      ],
      "metadata": {
        "colab": {
          "base_uri": "https://localhost:8080/"
        },
        "id": "WSeyXspEm1kJ",
        "outputId": "aec7026c-b539-4308-dcc1-2609dc03b598"
      },
      "id": "WSeyXspEm1kJ",
      "execution_count": 15,
      "outputs": [
        {
          "output_type": "stream",
          "name": "stdout",
          "text": [
            "{('Y', '-'), ('F', 'F-YF'), ('+', '+'), ('X', 'X+YF+')}\n"
          ]
        }
      ]
    },
    {
      "cell_type": "code",
      "source": [
        "seq = seq = ['A', 'ABA']\n",
        "vertex_set = char_graph_dl(seq)\n",
        "plot_vertex_graph(vertex_set)"
      ],
      "metadata": {
        "colab": {
          "base_uri": "https://localhost:8080/",
          "height": 516
        },
        "id": "3pW3LSc23rqC",
        "outputId": "1b1323b6-f0ff-4ee9-e25e-9621d2f1a24d"
      },
      "id": "3pW3LSc23rqC",
      "execution_count": 13,
      "outputs": [
        {
          "output_type": "display_data",
          "data": {
            "text/plain": [
              "<Figure size 640x480 with 1 Axes>"
            ],
            "image/png": "[encoded data removed]"
          },
          "metadata": {}
        }
      ]
    }
  ],
  "metadata": {
    "kernelspec": {
      "display_name": "Python 3 (ipykernel)",
      "language": "python",
      "name": "python3"
    },
    "language_info": {
      "codemirror_mode": {
        "name": "ipython",
        "version": 3
      },
      "file_extension": ".py",
      "mimetype": "text/x-python",
      "name": "python",
      "nbconvert_exporter": "python",
      "pygments_lexer": "ipython3",
      "version": "3.8.19"
    },
    "colab": {
      "provenance": [],
      "toc_visible": true
    }
  },
  "nbformat": 4,
  "nbformat_minor": 5
}